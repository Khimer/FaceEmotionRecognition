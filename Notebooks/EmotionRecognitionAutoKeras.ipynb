{
  "nbformat": 4,
  "nbformat_minor": 0,
  "metadata": {
    "colab": {
      "name": "EmotionRecognitionAutoKeras.ipynb",
      "provenance": [],
      "collapsed_sections": []
    },
    "kernelspec": {
      "name": "python3",
      "display_name": "Python 3"
    },
    "accelerator": "GPU"
  },
  "cells": [
    {
      "cell_type": "code",
      "metadata": {
        "id": "PD3ygAtxP0uh",
        "colab_type": "code",
        "outputId": "8befebba-4ead-4ea8-a209-d4554b7f858d",
        "colab": {
          "base_uri": "https://localhost:8080/",
          "height": 1000
        }
      },
      "source": [
        "!pip3 install autokeras\n",
        "!pip install tensorflow==2.1.0"
      ],
      "execution_count": 1,
      "outputs": [
        {
          "output_type": "stream",
          "text": [
            "Collecting autokeras\n",
            "\u001b[?25l  Downloading https://files.pythonhosted.org/packages/a8/74/6588d79b8618c0f45ea2b3ace4959db2697029c8175bf1a0d2ed07c14761/autokeras-1.0.2-py3-none-any.whl (67kB)\n",
            "\u001b[K     |████████████████████████████████| 71kB 3.7MB/s \n",
            "\u001b[?25hRequirement already satisfied: packaging in /usr/local/lib/python3.6/dist-packages (from autokeras) (20.3)\n",
            "Requirement already satisfied: scikit-learn in /usr/local/lib/python3.6/dist-packages (from autokeras) (0.22.2.post1)\n",
            "Requirement already satisfied: pandas in /usr/local/lib/python3.6/dist-packages (from autokeras) (1.0.3)\n",
            "Collecting keras-tuner>=1.0.1\n",
            "\u001b[?25l  Downloading https://files.pythonhosted.org/packages/a7/f7/4b41b6832abf4c9bef71a664dc563adb25afc5812831667c6db572b1a261/keras-tuner-1.0.1.tar.gz (54kB)\n",
            "\u001b[K     |████████████████████████████████| 61kB 4.0MB/s \n",
            "\u001b[?25hRequirement already satisfied: numpy in /usr/local/lib/python3.6/dist-packages (from autokeras) (1.18.4)\n",
            "Requirement already satisfied: pyparsing>=2.0.2 in /usr/local/lib/python3.6/dist-packages (from packaging->autokeras) (2.4.7)\n",
            "Requirement already satisfied: six in /usr/local/lib/python3.6/dist-packages (from packaging->autokeras) (1.12.0)\n",
            "Requirement already satisfied: joblib>=0.11 in /usr/local/lib/python3.6/dist-packages (from scikit-learn->autokeras) (0.14.1)\n",
            "Requirement already satisfied: scipy>=0.17.0 in /usr/local/lib/python3.6/dist-packages (from scikit-learn->autokeras) (1.4.1)\n",
            "Requirement already satisfied: python-dateutil>=2.6.1 in /usr/local/lib/python3.6/dist-packages (from pandas->autokeras) (2.8.1)\n",
            "Requirement already satisfied: pytz>=2017.2 in /usr/local/lib/python3.6/dist-packages (from pandas->autokeras) (2018.9)\n",
            "Requirement already satisfied: future in /usr/local/lib/python3.6/dist-packages (from keras-tuner>=1.0.1->autokeras) (0.16.0)\n",
            "Requirement already satisfied: tabulate in /usr/local/lib/python3.6/dist-packages (from keras-tuner>=1.0.1->autokeras) (0.8.7)\n",
            "Collecting terminaltables\n",
            "  Downloading https://files.pythonhosted.org/packages/9b/c4/4a21174f32f8a7e1104798c445dacdc1d4df86f2f26722767034e4de4bff/terminaltables-3.1.0.tar.gz\n",
            "Collecting colorama\n",
            "  Downloading https://files.pythonhosted.org/packages/c9/dc/45cdef1b4d119eb96316b3117e6d5708a08029992b2fee2c143c7a0a5cc5/colorama-0.4.3-py2.py3-none-any.whl\n",
            "Requirement already satisfied: tqdm in /usr/local/lib/python3.6/dist-packages (from keras-tuner>=1.0.1->autokeras) (4.41.1)\n",
            "Requirement already satisfied: requests in /usr/local/lib/python3.6/dist-packages (from keras-tuner>=1.0.1->autokeras) (2.23.0)\n",
            "Requirement already satisfied: urllib3!=1.25.0,!=1.25.1,<1.26,>=1.21.1 in /usr/local/lib/python3.6/dist-packages (from requests->keras-tuner>=1.0.1->autokeras) (1.24.3)\n",
            "Requirement already satisfied: chardet<4,>=3.0.2 in /usr/local/lib/python3.6/dist-packages (from requests->keras-tuner>=1.0.1->autokeras) (3.0.4)\n",
            "Requirement already satisfied: idna<3,>=2.5 in /usr/local/lib/python3.6/dist-packages (from requests->keras-tuner>=1.0.1->autokeras) (2.9)\n",
            "Requirement already satisfied: certifi>=2017.4.17 in /usr/local/lib/python3.6/dist-packages (from requests->keras-tuner>=1.0.1->autokeras) (2020.4.5.1)\n",
            "Building wheels for collected packages: keras-tuner, terminaltables\n",
            "  Building wheel for keras-tuner (setup.py) ... \u001b[?25l\u001b[?25hdone\n",
            "  Created wheel for keras-tuner: filename=keras_tuner-1.0.1-cp36-none-any.whl size=73200 sha256=f9606fdbe02f0e5024302d9eec80dfdd5e9a30b4c6e15f4954e32da524f3274a\n",
            "  Stored in directory: /root/.cache/pip/wheels/b9/cc/62/52716b70dd90f3db12519233c3a93a5360bc672da1a10ded43\n",
            "  Building wheel for terminaltables (setup.py) ... \u001b[?25l\u001b[?25hdone\n",
            "  Created wheel for terminaltables: filename=terminaltables-3.1.0-cp36-none-any.whl size=15356 sha256=1f483c58d631a842b7682e51f68cf24f98f59ec3c96251500ed60eb01daccff5\n",
            "  Stored in directory: /root/.cache/pip/wheels/30/6b/50/6c75775b681fb36cdfac7f19799888ef9d8813aff9e379663e\n",
            "Successfully built keras-tuner terminaltables\n",
            "Installing collected packages: terminaltables, colorama, keras-tuner, autokeras\n",
            "Successfully installed autokeras-1.0.2 colorama-0.4.3 keras-tuner-1.0.1 terminaltables-3.1.0\n",
            "Collecting tensorflow==2.1.0\n",
            "\u001b[?25l  Downloading https://files.pythonhosted.org/packages/85/d4/c0cd1057b331bc38b65478302114194bd8e1b9c2bbc06e300935c0e93d90/tensorflow-2.1.0-cp36-cp36m-manylinux2010_x86_64.whl (421.8MB)\n",
            "\u001b[K     |████████████████████████████████| 421.8MB 30kB/s \n",
            "\u001b[?25hRequirement already satisfied: numpy<2.0,>=1.16.0 in /usr/local/lib/python3.6/dist-packages (from tensorflow==2.1.0) (1.18.4)\n",
            "Requirement already satisfied: grpcio>=1.8.6 in /usr/local/lib/python3.6/dist-packages (from tensorflow==2.1.0) (1.28.1)\n",
            "Requirement already satisfied: astor>=0.6.0 in /usr/local/lib/python3.6/dist-packages (from tensorflow==2.1.0) (0.8.1)\n",
            "Collecting gast==0.2.2\n",
            "  Downloading https://files.pythonhosted.org/packages/4e/35/11749bf99b2d4e3cceb4d55ca22590b0d7c2c62b9de38ac4a4a7f4687421/gast-0.2.2.tar.gz\n",
            "Requirement already satisfied: google-pasta>=0.1.6 in /usr/local/lib/python3.6/dist-packages (from tensorflow==2.1.0) (0.2.0)\n",
            "Requirement already satisfied: opt-einsum>=2.3.2 in /usr/local/lib/python3.6/dist-packages (from tensorflow==2.1.0) (3.2.1)\n",
            "Requirement already satisfied: protobuf>=3.8.0 in /usr/local/lib/python3.6/dist-packages (from tensorflow==2.1.0) (3.10.0)\n",
            "Requirement already satisfied: keras-preprocessing>=1.1.0 in /usr/local/lib/python3.6/dist-packages (from tensorflow==2.1.0) (1.1.0)\n",
            "Requirement already satisfied: scipy==1.4.1; python_version >= \"3\" in /usr/local/lib/python3.6/dist-packages (from tensorflow==2.1.0) (1.4.1)\n",
            "Requirement already satisfied: keras-applications>=1.0.8 in /usr/local/lib/python3.6/dist-packages (from tensorflow==2.1.0) (1.0.8)\n",
            "Collecting tensorboard<2.2.0,>=2.1.0\n",
            "\u001b[?25l  Downloading https://files.pythonhosted.org/packages/d9/41/bbf49b61370e4f4d245d4c6051dfb6db80cec672605c91b1652ac8cc3d38/tensorboard-2.1.1-py3-none-any.whl (3.8MB)\n",
            "\u001b[K     |████████████████████████████████| 3.9MB 28.5MB/s \n",
            "\u001b[?25hRequirement already satisfied: six>=1.12.0 in /usr/local/lib/python3.6/dist-packages (from tensorflow==2.1.0) (1.12.0)\n",
            "Requirement already satisfied: termcolor>=1.1.0 in /usr/local/lib/python3.6/dist-packages (from tensorflow==2.1.0) (1.1.0)\n",
            "Requirement already satisfied: wrapt>=1.11.1 in /usr/local/lib/python3.6/dist-packages (from tensorflow==2.1.0) (1.12.1)\n",
            "Requirement already satisfied: wheel>=0.26; python_version >= \"3\" in /usr/local/lib/python3.6/dist-packages (from tensorflow==2.1.0) (0.34.2)\n",
            "Requirement already satisfied: absl-py>=0.7.0 in /usr/local/lib/python3.6/dist-packages (from tensorflow==2.1.0) (0.9.0)\n",
            "Collecting tensorflow-estimator<2.2.0,>=2.1.0rc0\n",
            "\u001b[?25l  Downloading https://files.pythonhosted.org/packages/18/90/b77c328a1304437ab1310b463e533fa7689f4bfc41549593056d812fab8e/tensorflow_estimator-2.1.0-py2.py3-none-any.whl (448kB)\n",
            "\u001b[K     |████████████████████████████████| 450kB 43.0MB/s \n",
            "\u001b[?25hRequirement already satisfied: setuptools in /usr/local/lib/python3.6/dist-packages (from protobuf>=3.8.0->tensorflow==2.1.0) (46.3.0)\n",
            "Requirement already satisfied: h5py in /usr/local/lib/python3.6/dist-packages (from keras-applications>=1.0.8->tensorflow==2.1.0) (2.10.0)\n",
            "Requirement already satisfied: werkzeug>=0.11.15 in /usr/local/lib/python3.6/dist-packages (from tensorboard<2.2.0,>=2.1.0->tensorflow==2.1.0) (1.0.1)\n",
            "Requirement already satisfied: markdown>=2.6.8 in /usr/local/lib/python3.6/dist-packages (from tensorboard<2.2.0,>=2.1.0->tensorflow==2.1.0) (3.2.1)\n",
            "Requirement already satisfied: requests<3,>=2.21.0 in /usr/local/lib/python3.6/dist-packages (from tensorboard<2.2.0,>=2.1.0->tensorflow==2.1.0) (2.23.0)\n",
            "Requirement already satisfied: google-auth<2,>=1.6.3 in /usr/local/lib/python3.6/dist-packages (from tensorboard<2.2.0,>=2.1.0->tensorflow==2.1.0) (1.7.2)\n",
            "Requirement already satisfied: google-auth-oauthlib<0.5,>=0.4.1 in /usr/local/lib/python3.6/dist-packages (from tensorboard<2.2.0,>=2.1.0->tensorflow==2.1.0) (0.4.1)\n",
            "Requirement already satisfied: idna<3,>=2.5 in /usr/local/lib/python3.6/dist-packages (from requests<3,>=2.21.0->tensorboard<2.2.0,>=2.1.0->tensorflow==2.1.0) (2.9)\n",
            "Requirement already satisfied: chardet<4,>=3.0.2 in /usr/local/lib/python3.6/dist-packages (from requests<3,>=2.21.0->tensorboard<2.2.0,>=2.1.0->tensorflow==2.1.0) (3.0.4)\n",
            "Requirement already satisfied: certifi>=2017.4.17 in /usr/local/lib/python3.6/dist-packages (from requests<3,>=2.21.0->tensorboard<2.2.0,>=2.1.0->tensorflow==2.1.0) (2020.4.5.1)\n",
            "Requirement already satisfied: urllib3!=1.25.0,!=1.25.1,<1.26,>=1.21.1 in /usr/local/lib/python3.6/dist-packages (from requests<3,>=2.21.0->tensorboard<2.2.0,>=2.1.0->tensorflow==2.1.0) (1.24.3)\n",
            "Requirement already satisfied: rsa<4.1,>=3.1.4 in /usr/local/lib/python3.6/dist-packages (from google-auth<2,>=1.6.3->tensorboard<2.2.0,>=2.1.0->tensorflow==2.1.0) (4.0)\n",
            "Requirement already satisfied: pyasn1-modules>=0.2.1 in /usr/local/lib/python3.6/dist-packages (from google-auth<2,>=1.6.3->tensorboard<2.2.0,>=2.1.0->tensorflow==2.1.0) (0.2.8)\n",
            "Requirement already satisfied: cachetools<3.2,>=2.0.0 in /usr/local/lib/python3.6/dist-packages (from google-auth<2,>=1.6.3->tensorboard<2.2.0,>=2.1.0->tensorflow==2.1.0) (3.1.1)\n",
            "Requirement already satisfied: requests-oauthlib>=0.7.0 in /usr/local/lib/python3.6/dist-packages (from google-auth-oauthlib<0.5,>=0.4.1->tensorboard<2.2.0,>=2.1.0->tensorflow==2.1.0) (1.3.0)\n",
            "Requirement already satisfied: pyasn1>=0.1.3 in /usr/local/lib/python3.6/dist-packages (from rsa<4.1,>=3.1.4->google-auth<2,>=1.6.3->tensorboard<2.2.0,>=2.1.0->tensorflow==2.1.0) (0.4.8)\n",
            "Requirement already satisfied: oauthlib>=3.0.0 in /usr/local/lib/python3.6/dist-packages (from requests-oauthlib>=0.7.0->google-auth-oauthlib<0.5,>=0.4.1->tensorboard<2.2.0,>=2.1.0->tensorflow==2.1.0) (3.1.0)\n",
            "Building wheels for collected packages: gast\n",
            "  Building wheel for gast (setup.py) ... \u001b[?25l\u001b[?25hdone\n",
            "  Created wheel for gast: filename=gast-0.2.2-cp36-none-any.whl size=7540 sha256=21961d41f4cc90d79f81c6af9991b9cc841ec1eff84c6645dc0f838d6ead67e8\n",
            "  Stored in directory: /root/.cache/pip/wheels/5c/2e/7e/a1d4d4fcebe6c381f378ce7743a3ced3699feb89bcfbdadadd\n",
            "Successfully built gast\n",
            "\u001b[31mERROR: tensorflow-probability 0.10.0rc0 has requirement gast>=0.3.2, but you'll have gast 0.2.2 which is incompatible.\u001b[0m\n",
            "Installing collected packages: gast, tensorboard, tensorflow-estimator, tensorflow\n",
            "  Found existing installation: gast 0.3.3\n",
            "    Uninstalling gast-0.3.3:\n",
            "      Successfully uninstalled gast-0.3.3\n",
            "  Found existing installation: tensorboard 2.2.1\n",
            "    Uninstalling tensorboard-2.2.1:\n",
            "      Successfully uninstalled tensorboard-2.2.1\n",
            "  Found existing installation: tensorflow-estimator 2.2.0\n",
            "    Uninstalling tensorflow-estimator-2.2.0:\n",
            "      Successfully uninstalled tensorflow-estimator-2.2.0\n",
            "  Found existing installation: tensorflow 2.2.0\n",
            "    Uninstalling tensorflow-2.2.0:\n",
            "      Successfully uninstalled tensorflow-2.2.0\n",
            "Successfully installed gast-0.2.2 tensorboard-2.1.1 tensorflow-2.1.0 tensorflow-estimator-2.1.0\n"
          ],
          "name": "stdout"
        }
      ]
    },
    {
      "cell_type": "markdown",
      "metadata": {
        "id": "pAExNKOghg_N",
        "colab_type": "text"
      },
      "source": [
        "**Connect to Google Drive and import libraries**"
      ]
    },
    {
      "cell_type": "code",
      "metadata": {
        "id": "3IBqA9LMnTnk",
        "colab_type": "code",
        "outputId": "9db9d7b5-8a4e-4f92-9ec6-0139cb99cf2e",
        "colab": {
          "base_uri": "https://localhost:8080/",
          "height": 35
        }
      },
      "source": [
        "from keras.preprocessing.image import ImageDataGenerator\n",
        "import autokeras as ak\n",
        "import keras\n",
        "import numpy as np\n",
        "from sklearn.metrics import classification_report\n",
        "from google.colab import drive\n",
        "drive.mount('/content/gdrive')"
      ],
      "execution_count": 5,
      "outputs": [
        {
          "output_type": "stream",
          "text": [
            "Drive already mounted at /content/gdrive; to attempt to forcibly remount, call drive.mount(\"/content/gdrive\", force_remount=True).\n"
          ],
          "name": "stdout"
        }
      ]
    },
    {
      "cell_type": "markdown",
      "metadata": {
        "id": "wx4l2JViho3a",
        "colab_type": "text"
      },
      "source": [
        "**Dowload data**"
      ]
    },
    {
      "cell_type": "code",
      "metadata": {
        "id": "uJ7ikrBArWbx",
        "colab_type": "code",
        "outputId": "cbdc76b4-b102-4942-96b1-277657c9e395",
        "colab": {
          "base_uri": "https://localhost:8080/",
          "height": 35
        }
      },
      "source": [
        "keras.utils.data_utils._extract_archive (\n",
        "    '/content/gdrive/My Drive/Data/train.zip', path = 'train')\n",
        "keras.utils.data_utils._extract_archive (\n",
        "    '/content/gdrive/My Drive/Data/val.zip', path = 'val')\n",
        "keras.utils.data_utils._extract_archive (\n",
        "    '/content/gdrive/My Drive/Data/test.zip', path = 'test')"
      ],
      "execution_count": 6,
      "outputs": [
        {
          "output_type": "execute_result",
          "data": {
            "text/plain": [
              "True"
            ]
          },
          "metadata": {
            "tags": []
          },
          "execution_count": 6
        }
      ]
    },
    {
      "cell_type": "code",
      "metadata": {
        "id": "apCimrcjhu11",
        "colab_type": "code",
        "colab": {}
      },
      "source": [
        "img_width, img_height = 48, 48\n",
        "input_share = (img_width, img_height, 1)\n",
        "epochs = 30\n",
        "size_train = 20165\n",
        "size_val = 3640\n",
        "size_test = 4494\n",
        "nb_train_samples = 20165\n",
        "nb_validation_samples = 3640\n",
        "nb_test_samples = 4494\n",
        "train_dir = 'train'\n",
        "val_dir = 'val'\n",
        "test_dir = 'test'"
      ],
      "execution_count": 0,
      "outputs": []
    },
    {
      "cell_type": "code",
      "metadata": {
        "id": "nkEwP-V0j2FX",
        "colab_type": "code",
        "outputId": "e97cee7a-8ac1-4783-bbcd-bd5dd58e4795",
        "colab": {
          "base_uri": "https://localhost:8080/",
          "height": 90
        }
      },
      "source": [
        "datagen = ImageDataGenerator(rescale=1. / 255)\n",
        "train_generator = datagen.flow_from_directory(train_dir,\n",
        "                                              target_size=(img_width, img_height),\n",
        "                                              batch_size=size_train, class_mode='categorical',\n",
        "                                              shuffle=1, color_mode='grayscale')\n",
        "val_generator = datagen.flow_from_directory(val_dir,\n",
        "                                            target_size=(img_width, img_height),\n",
        "                                            batch_size=size_val, class_mode='categorical', color_mode='grayscale')\n",
        "test_generator = datagen.flow_from_directory(test_dir,\n",
        "                                             target_size=(img_width, img_height),\n",
        "                                             batch_size=size_test, class_mode='categorical',\n",
        "                                             color_mode='grayscale')\n",
        "print(val_generator.class_indices)"
      ],
      "execution_count": 8,
      "outputs": [
        {
          "output_type": "stream",
          "text": [
            "Found 20165 images belonging to 7 classes.\n",
            "Found 3640 images belonging to 7 classes.\n",
            "Found 4494 images belonging to 7 classes.\n",
            "{'Angry': 0, 'Fear': 1, 'Happy': 2, 'Neutral': 3, 'Sadness': 4, 'Scorn': 5, 'Surprise': 6}\n"
          ],
          "name": "stdout"
        }
      ]
    },
    {
      "cell_type": "code",
      "metadata": {
        "id": "2WSV1AiCP6gE",
        "colab_type": "code",
        "colab": {
          "base_uri": "https://localhost:8080/",
          "height": 35
        },
        "outputId": "a18dc4ae-a5d0-4249-a9d8-f910c3374968"
      },
      "source": [
        "x_train = train_generator[0][0]\n",
        "y_train = train_generator[0][1]\n",
        "x_test = test_generator[0][0]\n",
        "y_test = test_generator[0][1]\n",
        "x_val = val_generator[0][0]\n",
        "y_val = val_generator[0][1]\n",
        "print(x_train.shape, y_train.shape, x_test.shape, y_test.shape, x_val.shape, y_val.shape,)"
      ],
      "execution_count": 9,
      "outputs": [
        {
          "output_type": "stream",
          "text": [
            "(20165, 48, 48, 1) (20165, 7) (4494, 48, 48, 1) (4494, 7) (3640, 48, 48, 1) (3640, 7)\n"
          ],
          "name": "stdout"
        }
      ]
    },
    {
      "cell_type": "code",
      "metadata": {
        "id": "WBDYU_AAsBJY",
        "colab_type": "code",
        "colab": {}
      },
      "source": [
        "# x_train = np.reshape(train_generator[0][0], (size_train, 48, 48))\n",
        "# y_train = train_generator[0][1].astype('uint8')\n",
        "# x_test = np.reshape(test_generator[0][0], (size_test, 48, 48))\n",
        "# y_test = test_generator[0][1].astype('uint8')\n",
        "# x_val = np.reshape(val_generator[0][0], (size_val, 48, 48))\n",
        "# y_val = val_generator[0][1].astype('uint8')"
      ],
      "execution_count": 0,
      "outputs": []
    },
    {
      "cell_type": "code",
      "metadata": {
        "id": "XHdO5qkyjID0",
        "colab_type": "code",
        "outputId": "2343ca5d-6ace-4648-b3ca-7f09ddeeb89e",
        "colab": {
          "base_uri": "https://localhost:8080/",
          "height": 1000
        }
      },
      "source": [
        "input_node = ak.ImageInput()\n",
        "output_node = ak.ImageBlock(\n",
        "    # Only search ResNet architectures.\n",
        "    # Normalize the dataset.\n",
        "    normalize=False,\n",
        "    # Do not do data augmentation.\n",
        "    augment=False)(input_node)\n",
        "output_node = ak.ClassificationHead()(output_node)\n",
        "clf = ak.AutoModel(inputs=input_node, outputs=output_node, max_trials=20)\n",
        "clf.fit(x_train, y_train, validation_data=(x_val, y_val), batch_size = 128, epochs=60)\n",
        "best_model = clf.export_model()\n",
        "try:\n",
        "   best_model.save('/content/gdrive/My Drive/Models/model_self.h5')\n",
        "except OSError:\n",
        "    best_model.save('/content/drive/My Drive/Models/model_self.h5')"
      ],
      "execution_count": 0,
      "outputs": [
        {
          "output_type": "stream",
          "text": [
            "Train for 158 steps, validate for 29 steps\n",
            "Epoch 1/60\n",
            "158/158 [==============================] - 12s 76ms/step - loss: 1.9277 - accuracy: 0.1867 - val_loss: 1.8430 - val_accuracy: 0.3349\n",
            "Epoch 2/60\n",
            "158/158 [==============================] - 5s 34ms/step - loss: 1.8632 - accuracy: 0.2401 - val_loss: 1.8581 - val_accuracy: 0.2885\n",
            "Epoch 3/60\n",
            "158/158 [==============================] - 5s 34ms/step - loss: 1.8020 - accuracy: 0.2771 - val_loss: 1.7865 - val_accuracy: 0.3247\n",
            "Epoch 4/60\n",
            "158/158 [==============================] - 5s 34ms/step - loss: 1.7507 - accuracy: 0.3079 - val_loss: 1.6785 - val_accuracy: 0.3777\n",
            "Epoch 5/60\n",
            "158/158 [==============================] - 5s 34ms/step - loss: 1.7074 - accuracy: 0.3319 - val_loss: 1.6355 - val_accuracy: 0.3940\n",
            "Epoch 6/60\n",
            "158/158 [==============================] - 5s 34ms/step - loss: 1.6614 - accuracy: 0.3521 - val_loss: 1.6301 - val_accuracy: 0.3832\n",
            "Epoch 7/60\n",
            "158/158 [==============================] - 5s 34ms/step - loss: 1.6190 - accuracy: 0.3704 - val_loss: 1.6301 - val_accuracy: 0.3632\n",
            "Epoch 8/60\n",
            "158/158 [==============================] - 5s 34ms/step - loss: 1.5808 - accuracy: 0.3836 - val_loss: 1.6239 - val_accuracy: 0.3607\n",
            "Epoch 9/60\n",
            "158/158 [==============================] - 5s 34ms/step - loss: 1.5487 - accuracy: 0.4005 - val_loss: 1.5709 - val_accuracy: 0.3934\n",
            "Epoch 10/60\n",
            "158/158 [==============================] - 5s 34ms/step - loss: 1.5231 - accuracy: 0.4105 - val_loss: 1.5423 - val_accuracy: 0.4099\n",
            "Epoch 11/60\n",
            "158/158 [==============================] - 5s 34ms/step - loss: 1.5001 - accuracy: 0.4206 - val_loss: 1.5172 - val_accuracy: 0.4236\n",
            "Epoch 12/60\n",
            "158/158 [==============================] - 5s 34ms/step - loss: 1.4789 - accuracy: 0.4306 - val_loss: 1.4975 - val_accuracy: 0.4327\n",
            "Epoch 13/60\n",
            "158/158 [==============================] - 5s 34ms/step - loss: 1.4596 - accuracy: 0.4388 - val_loss: 1.4860 - val_accuracy: 0.4387\n",
            "Epoch 14/60\n",
            "158/158 [==============================] - 5s 34ms/step - loss: 1.4420 - accuracy: 0.4459 - val_loss: 1.4787 - val_accuracy: 0.4420\n",
            "Epoch 15/60\n",
            "158/158 [==============================] - 5s 34ms/step - loss: 1.4256 - accuracy: 0.4514 - val_loss: 1.4698 - val_accuracy: 0.4495\n",
            "Epoch 16/60\n",
            "158/158 [==============================] - 5s 34ms/step - loss: 1.4109 - accuracy: 0.4579 - val_loss: 1.4628 - val_accuracy: 0.4538\n",
            "Epoch 17/60\n",
            "158/158 [==============================] - 5s 34ms/step - loss: 1.3975 - accuracy: 0.4618 - val_loss: 1.4547 - val_accuracy: 0.4569\n",
            "Epoch 18/60\n",
            "158/158 [==============================] - 5s 34ms/step - loss: 1.3852 - accuracy: 0.4661 - val_loss: 1.4423 - val_accuracy: 0.4629\n",
            "Epoch 19/60\n",
            "158/158 [==============================] - 5s 34ms/step - loss: 1.3737 - accuracy: 0.4704 - val_loss: 1.4305 - val_accuracy: 0.4679\n",
            "Epoch 20/60\n",
            "158/158 [==============================] - 5s 34ms/step - loss: 1.3629 - accuracy: 0.4764 - val_loss: 1.4207 - val_accuracy: 0.4736\n",
            "Epoch 21/60\n",
            "158/158 [==============================] - 5s 34ms/step - loss: 1.3532 - accuracy: 0.4792 - val_loss: 1.4106 - val_accuracy: 0.4832\n",
            "Epoch 22/60\n",
            "158/158 [==============================] - 5s 34ms/step - loss: 1.3445 - accuracy: 0.4840 - val_loss: 1.4021 - val_accuracy: 0.4882\n",
            "Epoch 23/60\n",
            "158/158 [==============================] - 5s 34ms/step - loss: 1.3375 - accuracy: 0.4874 - val_loss: 1.4049 - val_accuracy: 0.4901\n",
            "Epoch 24/60\n",
            "158/158 [==============================] - 5s 33ms/step - loss: 1.3309 - accuracy: 0.4889 - val_loss: 1.4170 - val_accuracy: 0.4898\n",
            "Epoch 25/60\n",
            "158/158 [==============================] - 5s 34ms/step - loss: 1.3212 - accuracy: 0.4932 - val_loss: 1.4107 - val_accuracy: 0.4940\n",
            "Epoch 26/60\n",
            "158/158 [==============================] - 5s 34ms/step - loss: 1.3115 - accuracy: 0.4972 - val_loss: 1.4011 - val_accuracy: 0.4967\n",
            "Epoch 27/60\n",
            "158/158 [==============================] - 5s 34ms/step - loss: 1.3017 - accuracy: 0.5012 - val_loss: 1.3921 - val_accuracy: 0.5011\n",
            "Epoch 28/60\n",
            "158/158 [==============================] - 5s 34ms/step - loss: 1.2921 - accuracy: 0.5052 - val_loss: 1.3788 - val_accuracy: 0.5044\n",
            "Epoch 29/60\n",
            "158/158 [==============================] - 6s 35ms/step - loss: 1.2832 - accuracy: 0.5090 - val_loss: 1.3697 - val_accuracy: 0.5088\n",
            "Epoch 30/60\n",
            "158/158 [==============================] - 5s 34ms/step - loss: 1.2744 - accuracy: 0.5126 - val_loss: 1.3603 - val_accuracy: 0.5118\n",
            "Epoch 31/60\n",
            "158/158 [==============================] - 5s 34ms/step - loss: 1.2657 - accuracy: 0.5167 - val_loss: 1.3518 - val_accuracy: 0.5135\n",
            "Epoch 32/60\n",
            "158/158 [==============================] - 5s 34ms/step - loss: 1.2574 - accuracy: 0.5202 - val_loss: 1.3434 - val_accuracy: 0.5190\n",
            "Epoch 33/60\n",
            "158/158 [==============================] - 5s 34ms/step - loss: 1.2497 - accuracy: 0.5220 - val_loss: 1.3376 - val_accuracy: 0.5206\n",
            "Epoch 34/60\n",
            "158/158 [==============================] - 5s 34ms/step - loss: 1.2419 - accuracy: 0.5259 - val_loss: 1.3332 - val_accuracy: 0.5214\n",
            "Epoch 35/60\n",
            "158/158 [==============================] - 5s 34ms/step - loss: 1.2342 - accuracy: 0.5292 - val_loss: 1.3273 - val_accuracy: 0.5245\n",
            "Epoch 36/60\n",
            "158/158 [==============================] - 5s 34ms/step - loss: 1.2267 - accuracy: 0.5328 - val_loss: 1.3227 - val_accuracy: 0.5255\n",
            "Epoch 37/60\n",
            "158/158 [==============================] - 5s 34ms/step - loss: 1.2194 - accuracy: 0.5347 - val_loss: 1.3178 - val_accuracy: 0.5258\n",
            "Epoch 38/60\n",
            "158/158 [==============================] - 5s 34ms/step - loss: 1.2120 - accuracy: 0.5381 - val_loss: 1.3130 - val_accuracy: 0.5266\n",
            "Epoch 39/60\n",
            "158/158 [==============================] - 5s 34ms/step - loss: 1.2047 - accuracy: 0.5422 - val_loss: 1.3080 - val_accuracy: 0.5283\n",
            "Epoch 40/60\n",
            "158/158 [==============================] - 5s 34ms/step - loss: 1.1976 - accuracy: 0.5453 - val_loss: 1.3043 - val_accuracy: 0.5310\n",
            "Epoch 41/60\n",
            "158/158 [==============================] - 5s 34ms/step - loss: 1.1907 - accuracy: 0.5488 - val_loss: 1.3002 - val_accuracy: 0.5321\n",
            "Epoch 42/60\n",
            "158/158 [==============================] - 5s 34ms/step - loss: 1.1841 - accuracy: 0.5518 - val_loss: 1.2971 - val_accuracy: 0.5332\n",
            "Epoch 43/60\n",
            "158/158 [==============================] - 5s 34ms/step - loss: 1.1778 - accuracy: 0.5540 - val_loss: 1.2931 - val_accuracy: 0.5346\n",
            "Epoch 44/60\n",
            "158/158 [==============================] - 5s 33ms/step - loss: 1.1711 - accuracy: 0.5567 - val_loss: 1.2902 - val_accuracy: 0.5357\n",
            "Epoch 45/60\n",
            "158/158 [==============================] - 5s 34ms/step - loss: 1.1648 - accuracy: 0.5599 - val_loss: 1.2873 - val_accuracy: 0.5352\n",
            "Epoch 46/60\n",
            "158/158 [==============================] - 5s 34ms/step - loss: 1.1588 - accuracy: 0.5619 - val_loss: 1.2834 - val_accuracy: 0.5371\n",
            "Epoch 47/60\n",
            "158/158 [==============================] - 5s 34ms/step - loss: 1.1526 - accuracy: 0.5645 - val_loss: 1.2805 - val_accuracy: 0.5379\n",
            "Epoch 48/60\n",
            "158/158 [==============================] - 5s 34ms/step - loss: 1.1468 - accuracy: 0.5669 - val_loss: 1.2777 - val_accuracy: 0.5401\n",
            "Epoch 49/60\n",
            "158/158 [==============================] - 5s 34ms/step - loss: 1.1413 - accuracy: 0.5694 - val_loss: 1.2742 - val_accuracy: 0.5409\n",
            "Epoch 50/60\n",
            "158/158 [==============================] - 5s 34ms/step - loss: 1.1355 - accuracy: 0.5716 - val_loss: 1.2724 - val_accuracy: 0.5434\n",
            "Epoch 51/60\n",
            "158/158 [==============================] - 5s 34ms/step - loss: 1.1297 - accuracy: 0.5730 - val_loss: 1.2693 - val_accuracy: 0.5434\n",
            "Epoch 52/60\n",
            "158/158 [==============================] - 5s 34ms/step - loss: 1.1240 - accuracy: 0.5752 - val_loss: 1.2663 - val_accuracy: 0.5453\n",
            "Epoch 53/60\n",
            "158/158 [==============================] - 5s 34ms/step - loss: 1.1185 - accuracy: 0.5780 - val_loss: 1.2628 - val_accuracy: 0.5478\n",
            "Epoch 54/60\n",
            "158/158 [==============================] - 5s 34ms/step - loss: 1.1130 - accuracy: 0.5793 - val_loss: 1.2599 - val_accuracy: 0.5475\n",
            "Epoch 55/60\n",
            "158/158 [==============================] - 5s 34ms/step - loss: 1.1078 - accuracy: 0.5812 - val_loss: 1.2573 - val_accuracy: 0.5495\n",
            "Epoch 56/60\n",
            "158/158 [==============================] - 5s 34ms/step - loss: 1.1025 - accuracy: 0.5829 - val_loss: 1.2549 - val_accuracy: 0.5527\n",
            "Epoch 57/60\n",
            "158/158 [==============================] - 5s 34ms/step - loss: 1.0974 - accuracy: 0.5846 - val_loss: 1.2536 - val_accuracy: 0.5530\n",
            "Epoch 58/60\n",
            "158/158 [==============================] - 5s 34ms/step - loss: 1.0925 - accuracy: 0.5869 - val_loss: 1.2527 - val_accuracy: 0.5525\n",
            "Epoch 59/60\n",
            "158/158 [==============================] - 5s 34ms/step - loss: 1.0877 - accuracy: 0.5892 - val_loss: 1.2508 - val_accuracy: 0.5522\n",
            "Epoch 60/60\n",
            "158/158 [==============================] - 5s 34ms/step - loss: 1.0832 - accuracy: 0.5916 - val_loss: 1.2486 - val_accuracy: 0.5519\n"
          ],
          "name": "stdout"
        },
        {
          "output_type": "display_data",
          "data": {
            "text/html": [
              "<span style=\"color:#4527A0\"><h1 style=\"font-size:18px\">Trial complete</h1></span>"
            ],
            "text/plain": [
              "<IPython.core.display.HTML object>"
            ]
          },
          "metadata": {
            "tags": []
          }
        },
        {
          "output_type": "display_data",
          "data": {
            "text/html": [
              "<span style=\"color:#4527A0\"><h1 style=\"font-size:18px\">Trial summary</h1></span>"
            ],
            "text/plain": [
              "<IPython.core.display.HTML object>"
            ]
          },
          "metadata": {
            "tags": []
          }
        },
        {
          "output_type": "display_data",
          "data": {
            "text/html": [
              "<span style=\"color:cyan\"> |-Trial ID: 7d368d2aeb870efcd8a52aaae6d44ce9</span>"
            ],
            "text/plain": [
              "<IPython.core.display.HTML object>"
            ]
          },
          "metadata": {
            "tags": []
          }
        },
        {
          "output_type": "display_data",
          "data": {
            "text/html": [
              "<span style=\"color:cyan\"> |-Score: 1.248619823620237</span>"
            ],
            "text/plain": [
              "<IPython.core.display.HTML object>"
            ]
          },
          "metadata": {
            "tags": []
          }
        },
        {
          "output_type": "display_data",
          "data": {
            "text/html": [
              "<span style=\"color:cyan\"> |-Best step: 0</span>"
            ],
            "text/plain": [
              "<IPython.core.display.HTML object>"
            ]
          },
          "metadata": {
            "tags": []
          }
        },
        {
          "output_type": "display_data",
          "data": {
            "text/html": [
              "<span style=\"color:#7E57C2\"><h2 style=\"font-size:16px\">Hyperparameters:</h2></span>"
            ],
            "text/plain": [
              "<IPython.core.display.HTML object>"
            ]
          },
          "metadata": {
            "tags": []
          }
        },
        {
          "output_type": "display_data",
          "data": {
            "text/html": [
              "<span style=\"color:cyan\"> |-classification_head_1/dropout_rate: 0</span>"
            ],
            "text/plain": [
              "<IPython.core.display.HTML object>"
            ]
          },
          "metadata": {
            "tags": []
          }
        },
        {
          "output_type": "display_data",
          "data": {
            "text/html": [
              "<span style=\"color:blue\"> |-classification_head_1/spatial_reduction_1/reduction_type: global_avg</span>"
            ],
            "text/plain": [
              "<IPython.core.display.HTML object>"
            ]
          },
          "metadata": {
            "tags": []
          }
        },
        {
          "output_type": "display_data",
          "data": {
            "text/html": [
              "<span style=\"color:cyan\"> |-image_block_1/block_type: vanilla</span>"
            ],
            "text/plain": [
              "<IPython.core.display.HTML object>"
            ]
          },
          "metadata": {
            "tags": []
          }
        },
        {
          "output_type": "display_data",
          "data": {
            "text/html": [
              "<span style=\"color:blue\"> |-image_block_1/conv_block_1/dropout_rate: 0</span>"
            ],
            "text/plain": [
              "<IPython.core.display.HTML object>"
            ]
          },
          "metadata": {
            "tags": []
          }
        },
        {
          "output_type": "display_data",
          "data": {
            "text/html": [
              "<span style=\"color:cyan\"> |-image_block_1/conv_block_1/filters_0_0: 32</span>"
            ],
            "text/plain": [
              "<IPython.core.display.HTML object>"
            ]
          },
          "metadata": {
            "tags": []
          }
        },
        {
          "output_type": "display_data",
          "data": {
            "text/html": [
              "<span style=\"color:blue\"> |-image_block_1/conv_block_1/filters_0_1: 32</span>"
            ],
            "text/plain": [
              "<IPython.core.display.HTML object>"
            ]
          },
          "metadata": {
            "tags": []
          }
        },
        {
          "output_type": "display_data",
          "data": {
            "text/html": [
              "<span style=\"color:cyan\"> |-image_block_1/conv_block_1/filters_1_0: 32</span>"
            ],
            "text/plain": [
              "<IPython.core.display.HTML object>"
            ]
          },
          "metadata": {
            "tags": []
          }
        },
        {
          "output_type": "display_data",
          "data": {
            "text/html": [
              "<span style=\"color:blue\"> |-image_block_1/conv_block_1/filters_1_1: 32</span>"
            ],
            "text/plain": [
              "<IPython.core.display.HTML object>"
            ]
          },
          "metadata": {
            "tags": []
          }
        },
        {
          "output_type": "display_data",
          "data": {
            "text/html": [
              "<span style=\"color:cyan\"> |-image_block_1/conv_block_1/kernel_size: 3</span>"
            ],
            "text/plain": [
              "<IPython.core.display.HTML object>"
            ]
          },
          "metadata": {
            "tags": []
          }
        },
        {
          "output_type": "display_data",
          "data": {
            "text/html": [
              "<span style=\"color:blue\"> |-image_block_1/conv_block_1/max_pooling: True</span>"
            ],
            "text/plain": [
              "<IPython.core.display.HTML object>"
            ]
          },
          "metadata": {
            "tags": []
          }
        },
        {
          "output_type": "display_data",
          "data": {
            "text/html": [
              "<span style=\"color:cyan\"> |-image_block_1/conv_block_1/num_blocks: 2</span>"
            ],
            "text/plain": [
              "<IPython.core.display.HTML object>"
            ]
          },
          "metadata": {
            "tags": []
          }
        },
        {
          "output_type": "display_data",
          "data": {
            "text/html": [
              "<span style=\"color:blue\"> |-image_block_1/conv_block_1/num_layers: 2</span>"
            ],
            "text/plain": [
              "<IPython.core.display.HTML object>"
            ]
          },
          "metadata": {
            "tags": []
          }
        },
        {
          "output_type": "display_data",
          "data": {
            "text/html": [
              "<span style=\"color:cyan\"> |-image_block_1/conv_block_1/separable: False</span>"
            ],
            "text/plain": [
              "<IPython.core.display.HTML object>"
            ]
          },
          "metadata": {
            "tags": []
          }
        },
        {
          "output_type": "display_data",
          "data": {
            "text/html": [
              "<span style=\"color:blue\"> |-optimizer: adam</span>"
            ],
            "text/plain": [
              "<IPython.core.display.HTML object>"
            ]
          },
          "metadata": {
            "tags": []
          }
        },
        {
          "output_type": "stream",
          "text": [
            "Train for 158 steps, validate for 29 steps\n",
            "Epoch 1/60\n",
            "158/158 [==============================] - 51s 320ms/step - loss: 1.6368 - accuracy: 0.3587 - val_loss: 3.0744 - val_accuracy: 0.1574\n",
            "Epoch 2/60\n",
            "158/158 [==============================] - 37s 234ms/step - loss: 1.3134 - accuracy: 0.4941 - val_loss: 3.6916 - val_accuracy: 0.0945\n",
            "Epoch 3/60\n",
            "158/158 [==============================] - 37s 235ms/step - loss: 1.1130 - accuracy: 0.5785 - val_loss: 3.4646 - val_accuracy: 0.2022\n",
            "Epoch 4/60\n",
            "158/158 [==============================] - 37s 234ms/step - loss: 0.9773 - accuracy: 0.6309 - val_loss: 3.8379 - val_accuracy: 0.1720\n",
            "Epoch 5/60\n",
            "158/158 [==============================] - 38s 242ms/step - loss: 0.8569 - accuracy: 0.6789 - val_loss: 2.0567 - val_accuracy: 0.3390\n",
            "Epoch 6/60\n",
            "158/158 [==============================] - 37s 236ms/step - loss: 0.7612 - accuracy: 0.7160 - val_loss: 2.2221 - val_accuracy: 0.4137\n",
            "Epoch 7/60\n",
            "158/158 [==============================] - 37s 236ms/step - loss: 0.6497 - accuracy: 0.7614 - val_loss: 2.2436 - val_accuracy: 0.4195\n",
            "Epoch 8/60\n",
            "158/158 [==============================] - 37s 236ms/step - loss: 0.5590 - accuracy: 0.7957 - val_loss: 2.5577 - val_accuracy: 0.4352\n",
            "Epoch 9/60\n",
            "158/158 [==============================] - 37s 237ms/step - loss: 0.4721 - accuracy: 0.8294 - val_loss: 2.1247 - val_accuracy: 0.4354\n",
            "Epoch 10/60\n",
            "158/158 [==============================] - 37s 235ms/step - loss: 0.3962 - accuracy: 0.8558 - val_loss: 2.4317 - val_accuracy: 0.4080\n",
            "Epoch 11/60\n",
            "158/158 [==============================] - 37s 235ms/step - loss: 0.3180 - accuracy: 0.8856 - val_loss: 2.8615 - val_accuracy: 0.3651\n",
            "Epoch 12/60\n",
            "158/158 [==============================] - 37s 235ms/step - loss: 0.2675 - accuracy: 0.9037 - val_loss: 2.7153 - val_accuracy: 0.4168\n",
            "Epoch 13/60\n",
            "158/158 [==============================] - 37s 235ms/step - loss: 0.2389 - accuracy: 0.9168 - val_loss: 2.6500 - val_accuracy: 0.4701\n",
            "Epoch 14/60\n",
            "158/158 [==============================] - 37s 234ms/step - loss: 0.1920 - accuracy: 0.9306 - val_loss: 2.5932 - val_accuracy: 0.4415\n",
            "Epoch 15/60\n",
            "158/158 [==============================] - 37s 234ms/step - loss: 0.1771 - accuracy: 0.9369 - val_loss: 2.8241 - val_accuracy: 0.4662\n"
          ],
          "name": "stdout"
        },
        {
          "output_type": "display_data",
          "data": {
            "text/html": [
              "<span style=\"color:#4527A0\"><h1 style=\"font-size:18px\">Trial complete</h1></span>"
            ],
            "text/plain": [
              "<IPython.core.display.HTML object>"
            ]
          },
          "metadata": {
            "tags": []
          }
        },
        {
          "output_type": "display_data",
          "data": {
            "text/html": [
              "<span style=\"color:#4527A0\"><h1 style=\"font-size:18px\">Trial summary</h1></span>"
            ],
            "text/plain": [
              "<IPython.core.display.HTML object>"
            ]
          },
          "metadata": {
            "tags": []
          }
        },
        {
          "output_type": "display_data",
          "data": {
            "text/html": [
              "<span style=\"color:cyan\"> |-Trial ID: f994294d1115fd82e8281cece7a9d1d8</span>"
            ],
            "text/plain": [
              "<IPython.core.display.HTML object>"
            ]
          },
          "metadata": {
            "tags": []
          }
        },
        {
          "output_type": "display_data",
          "data": {
            "text/html": [
              "<span style=\"color:cyan\"> |-Score: 2.056746006011963</span>"
            ],
            "text/plain": [
              "<IPython.core.display.HTML object>"
            ]
          },
          "metadata": {
            "tags": []
          }
        },
        {
          "output_type": "display_data",
          "data": {
            "text/html": [
              "<span style=\"color:cyan\"> |-Best step: 0</span>"
            ],
            "text/plain": [
              "<IPython.core.display.HTML object>"
            ]
          },
          "metadata": {
            "tags": []
          }
        },
        {
          "output_type": "display_data",
          "data": {
            "text/html": [
              "<span style=\"color:#7E57C2\"><h2 style=\"font-size:16px\">Hyperparameters:</h2></span>"
            ],
            "text/plain": [
              "<IPython.core.display.HTML object>"
            ]
          },
          "metadata": {
            "tags": []
          }
        },
        {
          "output_type": "display_data",
          "data": {
            "text/html": [
              "<span style=\"color:cyan\"> |-classification_head_1/dropout_rate: 0</span>"
            ],
            "text/plain": [
              "<IPython.core.display.HTML object>"
            ]
          },
          "metadata": {
            "tags": []
          }
        },
        {
          "output_type": "display_data",
          "data": {
            "text/html": [
              "<span style=\"color:blue\"> |-classification_head_1/spatial_reduction_1/reduction_type: global_avg</span>"
            ],
            "text/plain": [
              "<IPython.core.display.HTML object>"
            ]
          },
          "metadata": {
            "tags": []
          }
        },
        {
          "output_type": "display_data",
          "data": {
            "text/html": [
              "<span style=\"color:cyan\"> |-image_block_1/block_type: resnet</span>"
            ],
            "text/plain": [
              "<IPython.core.display.HTML object>"
            ]
          },
          "metadata": {
            "tags": []
          }
        },
        {
          "output_type": "display_data",
          "data": {
            "text/html": [
              "<span style=\"color:blue\"> |-image_block_1/conv_block_1/dropout_rate: 0.0</span>"
            ],
            "text/plain": [
              "<IPython.core.display.HTML object>"
            ]
          },
          "metadata": {
            "tags": []
          }
        },
        {
          "output_type": "display_data",
          "data": {
            "text/html": [
              "<span style=\"color:cyan\"> |-image_block_1/conv_block_1/filters_0_0: 128</span>"
            ],
            "text/plain": [
              "<IPython.core.display.HTML object>"
            ]
          },
          "metadata": {
            "tags": []
          }
        },
        {
          "output_type": "display_data",
          "data": {
            "text/html": [
              "<span style=\"color:blue\"> |-image_block_1/conv_block_1/filters_0_1: 16</span>"
            ],
            "text/plain": [
              "<IPython.core.display.HTML object>"
            ]
          },
          "metadata": {
            "tags": []
          }
        },
        {
          "output_type": "display_data",
          "data": {
            "text/html": [
              "<span style=\"color:cyan\"> |-image_block_1/conv_block_1/filters_1_0: 64</span>"
            ],
            "text/plain": [
              "<IPython.core.display.HTML object>"
            ]
          },
          "metadata": {
            "tags": []
          }
        },
        {
          "output_type": "display_data",
          "data": {
            "text/html": [
              "<span style=\"color:blue\"> |-image_block_1/conv_block_1/filters_1_1: 256</span>"
            ],
            "text/plain": [
              "<IPython.core.display.HTML object>"
            ]
          },
          "metadata": {
            "tags": []
          }
        },
        {
          "output_type": "display_data",
          "data": {
            "text/html": [
              "<span style=\"color:cyan\"> |-image_block_1/conv_block_1/kernel_size: 3</span>"
            ],
            "text/plain": [
              "<IPython.core.display.HTML object>"
            ]
          },
          "metadata": {
            "tags": []
          }
        },
        {
          "output_type": "display_data",
          "data": {
            "text/html": [
              "<span style=\"color:blue\"> |-image_block_1/conv_block_1/max_pooling: True</span>"
            ],
            "text/plain": [
              "<IPython.core.display.HTML object>"
            ]
          },
          "metadata": {
            "tags": []
          }
        },
        {
          "output_type": "display_data",
          "data": {
            "text/html": [
              "<span style=\"color:cyan\"> |-image_block_1/conv_block_1/num_blocks: 1</span>"
            ],
            "text/plain": [
              "<IPython.core.display.HTML object>"
            ]
          },
          "metadata": {
            "tags": []
          }
        },
        {
          "output_type": "display_data",
          "data": {
            "text/html": [
              "<span style=\"color:blue\"> |-image_block_1/conv_block_1/num_layers: 2</span>"
            ],
            "text/plain": [
              "<IPython.core.display.HTML object>"
            ]
          },
          "metadata": {
            "tags": []
          }
        },
        {
          "output_type": "display_data",
          "data": {
            "text/html": [
              "<span style=\"color:cyan\"> |-image_block_1/conv_block_1/separable: False</span>"
            ],
            "text/plain": [
              "<IPython.core.display.HTML object>"
            ]
          },
          "metadata": {
            "tags": []
          }
        },
        {
          "output_type": "display_data",
          "data": {
            "text/html": [
              "<span style=\"color:blue\"> |-image_block_1/res_net_block_1/conv3_depth: 4</span>"
            ],
            "text/plain": [
              "<IPython.core.display.HTML object>"
            ]
          },
          "metadata": {
            "tags": []
          }
        },
        {
          "output_type": "display_data",
          "data": {
            "text/html": [
              "<span style=\"color:cyan\"> |-image_block_1/res_net_block_1/conv4_depth: 6</span>"
            ],
            "text/plain": [
              "<IPython.core.display.HTML object>"
            ]
          },
          "metadata": {
            "tags": []
          }
        },
        {
          "output_type": "display_data",
          "data": {
            "text/html": [
              "<span style=\"color:blue\"> |-image_block_1/res_net_block_1/pooling: avg</span>"
            ],
            "text/plain": [
              "<IPython.core.display.HTML object>"
            ]
          },
          "metadata": {
            "tags": []
          }
        },
        {
          "output_type": "display_data",
          "data": {
            "text/html": [
              "<span style=\"color:cyan\"> |-image_block_1/res_net_block_1/version: v2</span>"
            ],
            "text/plain": [
              "<IPython.core.display.HTML object>"
            ]
          },
          "metadata": {
            "tags": []
          }
        },
        {
          "output_type": "display_data",
          "data": {
            "text/html": [
              "<span style=\"color:blue\"> |-optimizer: adam</span>"
            ],
            "text/plain": [
              "<IPython.core.display.HTML object>"
            ]
          },
          "metadata": {
            "tags": []
          }
        },
        {
          "output_type": "stream",
          "text": [
            "Train for 158 steps, validate for 29 steps\n",
            "Epoch 1/60\n",
            "158/158 [==============================] - 20s 124ms/step - loss: 1.9490 - accuracy: 0.1605 - val_loss: 1.9265 - val_accuracy: 0.2324\n",
            "Epoch 2/60\n",
            "158/158 [==============================] - 17s 107ms/step - loss: 1.9426 - accuracy: 0.1689 - val_loss: 1.9133 - val_accuracy: 0.2324\n",
            "Epoch 3/60\n",
            "158/158 [==============================] - 17s 107ms/step - loss: 1.9421 - accuracy: 0.1689 - val_loss: 1.9077 - val_accuracy: 0.2324\n",
            "Epoch 4/60\n",
            "158/158 [==============================] - 17s 107ms/step - loss: 1.9420 - accuracy: 0.1689 - val_loss: 1.9059 - val_accuracy: 0.2324\n",
            "Epoch 5/60\n",
            "158/158 [==============================] - 17s 107ms/step - loss: 1.9420 - accuracy: 0.1689 - val_loss: 1.9050 - val_accuracy: 0.2324\n",
            "Epoch 6/60\n",
            "158/158 [==============================] - 17s 106ms/step - loss: 1.9421 - accuracy: 0.1689 - val_loss: 1.9058 - val_accuracy: 0.2324\n",
            "Epoch 7/60\n",
            "158/158 [==============================] - 17s 105ms/step - loss: 1.9420 - accuracy: 0.1689 - val_loss: 1.9054 - val_accuracy: 0.2324\n",
            "Epoch 8/60\n",
            "158/158 [==============================] - 17s 105ms/step - loss: 1.9420 - accuracy: 0.1689 - val_loss: 1.9056 - val_accuracy: 0.2324\n",
            "Epoch 9/60\n",
            "158/158 [==============================] - 17s 106ms/step - loss: 1.9420 - accuracy: 0.1689 - val_loss: 1.9055 - val_accuracy: 0.2324\n",
            "Epoch 10/60\n",
            "158/158 [==============================] - 17s 107ms/step - loss: 1.9420 - accuracy: 0.1689 - val_loss: 1.9049 - val_accuracy: 0.2324\n",
            "Epoch 11/60\n",
            "158/158 [==============================] - 17s 106ms/step - loss: 1.9420 - accuracy: 0.1689 - val_loss: 1.9053 - val_accuracy: 0.2324\n",
            "Epoch 12/60\n",
            "158/158 [==============================] - 17s 107ms/step - loss: 1.9419 - accuracy: 0.1689 - val_loss: 1.9043 - val_accuracy: 0.2324\n",
            "Epoch 13/60\n",
            "158/158 [==============================] - 17s 105ms/step - loss: 1.9420 - accuracy: 0.1689 - val_loss: 1.9052 - val_accuracy: 0.2324\n",
            "Epoch 14/60\n",
            "158/158 [==============================] - 17s 106ms/step - loss: 1.9420 - accuracy: 0.1689 - val_loss: 1.9056 - val_accuracy: 0.2324\n",
            "Epoch 15/60\n",
            "158/158 [==============================] - 17s 106ms/step - loss: 1.9420 - accuracy: 0.1689 - val_loss: 1.9054 - val_accuracy: 0.2324\n",
            "Epoch 16/60\n",
            "158/158 [==============================] - 17s 106ms/step - loss: 1.9419 - accuracy: 0.1689 - val_loss: 1.9050 - val_accuracy: 0.2324\n",
            "Epoch 17/60\n",
            "158/158 [==============================] - 17s 106ms/step - loss: 1.9419 - accuracy: 0.1689 - val_loss: 1.9051 - val_accuracy: 0.2324\n",
            "Epoch 18/60\n",
            "158/158 [==============================] - 17s 106ms/step - loss: 1.9419 - accuracy: 0.1689 - val_loss: 1.9053 - val_accuracy: 0.2324\n",
            "Epoch 19/60\n",
            "158/158 [==============================] - 17s 105ms/step - loss: 1.9419 - accuracy: 0.1689 - val_loss: 1.9053 - val_accuracy: 0.2324\n",
            "Epoch 20/60\n",
            "158/158 [==============================] - 17s 106ms/step - loss: 1.9420 - accuracy: 0.1689 - val_loss: 1.9052 - val_accuracy: 0.2324\n",
            "Epoch 21/60\n",
            "158/158 [==============================] - 17s 106ms/step - loss: 1.9419 - accuracy: 0.1689 - val_loss: 1.9051 - val_accuracy: 0.2324\n",
            "Epoch 22/60\n",
            "158/158 [==============================] - 17s 106ms/step - loss: 1.9420 - accuracy: 0.1689 - val_loss: 1.9053 - val_accuracy: 0.2324\n"
          ],
          "name": "stdout"
        },
        {
          "output_type": "display_data",
          "data": {
            "text/html": [
              "<span style=\"color:#4527A0\"><h1 style=\"font-size:18px\">Trial complete</h1></span>"
            ],
            "text/plain": [
              "<IPython.core.display.HTML object>"
            ]
          },
          "metadata": {
            "tags": []
          }
        },
        {
          "output_type": "display_data",
          "data": {
            "text/html": [
              "<span style=\"color:#4527A0\"><h1 style=\"font-size:18px\">Trial summary</h1></span>"
            ],
            "text/plain": [
              "<IPython.core.display.HTML object>"
            ]
          },
          "metadata": {
            "tags": []
          }
        },
        {
          "output_type": "display_data",
          "data": {
            "text/html": [
              "<span style=\"color:cyan\"> |-Trial ID: 2032baf2189ff64c1317065eb7cc60e3</span>"
            ],
            "text/plain": [
              "<IPython.core.display.HTML object>"
            ]
          },
          "metadata": {
            "tags": []
          }
        },
        {
          "output_type": "display_data",
          "data": {
            "text/html": [
              "<span style=\"color:cyan\"> |-Score: 1.9043317663258519</span>"
            ],
            "text/plain": [
              "<IPython.core.display.HTML object>"
            ]
          },
          "metadata": {
            "tags": []
          }
        },
        {
          "output_type": "display_data",
          "data": {
            "text/html": [
              "<span style=\"color:cyan\"> |-Best step: 0</span>"
            ],
            "text/plain": [
              "<IPython.core.display.HTML object>"
            ]
          },
          "metadata": {
            "tags": []
          }
        },
        {
          "output_type": "display_data",
          "data": {
            "text/html": [
              "<span style=\"color:#7E57C2\"><h2 style=\"font-size:16px\">Hyperparameters:</h2></span>"
            ],
            "text/plain": [
              "<IPython.core.display.HTML object>"
            ]
          },
          "metadata": {
            "tags": []
          }
        },
        {
          "output_type": "display_data",
          "data": {
            "text/html": [
              "<span style=\"color:cyan\"> |-classification_head_1/dropout_rate: 0</span>"
            ],
            "text/plain": [
              "<IPython.core.display.HTML object>"
            ]
          },
          "metadata": {
            "tags": []
          }
        },
        {
          "output_type": "display_data",
          "data": {
            "text/html": [
              "<span style=\"color:blue\"> |-classification_head_1/spatial_reduction_1/reduction_type: global_avg</span>"
            ],
            "text/plain": [
              "<IPython.core.display.HTML object>"
            ]
          },
          "metadata": {
            "tags": []
          }
        },
        {
          "output_type": "display_data",
          "data": {
            "text/html": [
              "<span style=\"color:cyan\"> |-image_block_1/block_type: vanilla</span>"
            ],
            "text/plain": [
              "<IPython.core.display.HTML object>"
            ]
          },
          "metadata": {
            "tags": []
          }
        },
        {
          "output_type": "display_data",
          "data": {
            "text/html": [
              "<span style=\"color:blue\"> |-image_block_1/conv_block_1/dropout_rate: 0.25</span>"
            ],
            "text/plain": [
              "<IPython.core.display.HTML object>"
            ]
          },
          "metadata": {
            "tags": []
          }
        },
        {
          "output_type": "display_data",
          "data": {
            "text/html": [
              "<span style=\"color:cyan\"> |-image_block_1/conv_block_1/filters_0_0: 64</span>"
            ],
            "text/plain": [
              "<IPython.core.display.HTML object>"
            ]
          },
          "metadata": {
            "tags": []
          }
        },
        {
          "output_type": "display_data",
          "data": {
            "text/html": [
              "<span style=\"color:blue\"> |-image_block_1/conv_block_1/filters_0_1: 32</span>"
            ],
            "text/plain": [
              "<IPython.core.display.HTML object>"
            ]
          },
          "metadata": {
            "tags": []
          }
        },
        {
          "output_type": "display_data",
          "data": {
            "text/html": [
              "<span style=\"color:cyan\"> |-image_block_1/conv_block_1/filters_1_0: 512</span>"
            ],
            "text/plain": [
              "<IPython.core.display.HTML object>"
            ]
          },
          "metadata": {
            "tags": []
          }
        },
        {
          "output_type": "display_data",
          "data": {
            "text/html": [
              "<span style=\"color:blue\"> |-image_block_1/conv_block_1/filters_1_1: 256</span>"
            ],
            "text/plain": [
              "<IPython.core.display.HTML object>"
            ]
          },
          "metadata": {
            "tags": []
          }
        },
        {
          "output_type": "display_data",
          "data": {
            "text/html": [
              "<span style=\"color:cyan\"> |-image_block_1/conv_block_1/kernel_size: 7</span>"
            ],
            "text/plain": [
              "<IPython.core.display.HTML object>"
            ]
          },
          "metadata": {
            "tags": []
          }
        },
        {
          "output_type": "display_data",
          "data": {
            "text/html": [
              "<span style=\"color:blue\"> |-image_block_1/conv_block_1/max_pooling: True</span>"
            ],
            "text/plain": [
              "<IPython.core.display.HTML object>"
            ]
          },
          "metadata": {
            "tags": []
          }
        },
        {
          "output_type": "display_data",
          "data": {
            "text/html": [
              "<span style=\"color:cyan\"> |-image_block_1/conv_block_1/num_blocks: 2</span>"
            ],
            "text/plain": [
              "<IPython.core.display.HTML object>"
            ]
          },
          "metadata": {
            "tags": []
          }
        },
        {
          "output_type": "display_data",
          "data": {
            "text/html": [
              "<span style=\"color:blue\"> |-image_block_1/conv_block_1/num_layers: 2</span>"
            ],
            "text/plain": [
              "<IPython.core.display.HTML object>"
            ]
          },
          "metadata": {
            "tags": []
          }
        },
        {
          "output_type": "display_data",
          "data": {
            "text/html": [
              "<span style=\"color:cyan\"> |-image_block_1/conv_block_1/separable: False</span>"
            ],
            "text/plain": [
              "<IPython.core.display.HTML object>"
            ]
          },
          "metadata": {
            "tags": []
          }
        },
        {
          "output_type": "display_data",
          "data": {
            "text/html": [
              "<span style=\"color:blue\"> |-image_block_1/res_net_block_1/conv3_depth: 8</span>"
            ],
            "text/plain": [
              "<IPython.core.display.HTML object>"
            ]
          },
          "metadata": {
            "tags": []
          }
        },
        {
          "output_type": "display_data",
          "data": {
            "text/html": [
              "<span style=\"color:cyan\"> |-image_block_1/res_net_block_1/conv4_depth: 6</span>"
            ],
            "text/plain": [
              "<IPython.core.display.HTML object>"
            ]
          },
          "metadata": {
            "tags": []
          }
        },
        {
          "output_type": "display_data",
          "data": {
            "text/html": [
              "<span style=\"color:blue\"> |-image_block_1/res_net_block_1/pooling: avg</span>"
            ],
            "text/plain": [
              "<IPython.core.display.HTML object>"
            ]
          },
          "metadata": {
            "tags": []
          }
        },
        {
          "output_type": "display_data",
          "data": {
            "text/html": [
              "<span style=\"color:cyan\"> |-image_block_1/res_net_block_1/version: v2</span>"
            ],
            "text/plain": [
              "<IPython.core.display.HTML object>"
            ]
          },
          "metadata": {
            "tags": []
          }
        },
        {
          "output_type": "display_data",
          "data": {
            "text/html": [
              "<span style=\"color:blue\"> |-optimizer: adam</span>"
            ],
            "text/plain": [
              "<IPython.core.display.HTML object>"
            ]
          },
          "metadata": {
            "tags": []
          }
        },
        {
          "output_type": "stream",
          "text": [
            "Train for 158 steps, validate for 29 steps\n",
            "Epoch 1/60\n",
            "158/158 [==============================] - 169s 1s/step - loss: 3.2088 - accuracy: 0.1931 - val_loss: 1.9003 - val_accuracy: 0.2324\n",
            "Epoch 2/60\n",
            "158/158 [==============================] - 129s 816ms/step - loss: 2.3237 - accuracy: 0.1864 - val_loss: 1.9296 - val_accuracy: 0.1146\n",
            "Epoch 3/60\n",
            "158/158 [==============================] - 129s 817ms/step - loss: 2.1801 - accuracy: 0.2281 - val_loss: 1.9659 - val_accuracy: 0.1203\n",
            "Epoch 4/60\n",
            "158/158 [==============================] - 129s 817ms/step - loss: 2.0609 - accuracy: 0.2505 - val_loss: 9.9469 - val_accuracy: 0.2813\n",
            "Epoch 5/60\n",
            "158/158 [==============================] - 131s 830ms/step - loss: 1.8577 - accuracy: 0.3243 - val_loss: 1.7107 - val_accuracy: 0.3563\n",
            "Epoch 6/60\n",
            "158/158 [==============================] - 131s 827ms/step - loss: 1.7436 - accuracy: 0.3664 - val_loss: 1.6671 - val_accuracy: 0.3945\n",
            "Epoch 7/60\n",
            "158/158 [==============================] - 129s 818ms/step - loss: 1.5630 - accuracy: 0.4351 - val_loss: 1.6851 - val_accuracy: 0.3964\n",
            "Epoch 8/60\n",
            "158/158 [==============================] - 129s 816ms/step - loss: 1.3610 - accuracy: 0.5122 - val_loss: 1.7866 - val_accuracy: 0.4047\n",
            "Epoch 9/60\n",
            "158/158 [==============================] - 128s 813ms/step - loss: 1.7063 - accuracy: 0.3913 - val_loss: 1.7914 - val_accuracy: 0.3324\n",
            "Epoch 10/60\n",
            "158/158 [==============================] - 131s 827ms/step - loss: 1.5289 - accuracy: 0.4467 - val_loss: 1.6519 - val_accuracy: 0.3863\n",
            "Epoch 11/60\n",
            "158/158 [==============================] - 128s 812ms/step - loss: 1.5876 - accuracy: 0.4277 - val_loss: 3.0772 - val_accuracy: 0.2305\n",
            "Epoch 12/60\n",
            "158/158 [==============================] - 128s 813ms/step - loss: 1.5970 - accuracy: 0.4409 - val_loss: 1.7052 - val_accuracy: 0.3769\n",
            "Epoch 13/60\n",
            "158/158 [==============================] - 128s 812ms/step - loss: 1.3808 - accuracy: 0.5296 - val_loss: 2.1165 - val_accuracy: 0.3495\n",
            "Epoch 14/60\n",
            "158/158 [==============================] - 128s 812ms/step - loss: 1.5466 - accuracy: 0.4782 - val_loss: 1.9537 - val_accuracy: 0.3794\n",
            "Epoch 15/60\n",
            "  1/158 [..............................] - ETA: 2:22 - loss: 1.2613 - accuracy: 0.5078"
          ],
          "name": "stdout"
        }
      ]
    }
  ]
}