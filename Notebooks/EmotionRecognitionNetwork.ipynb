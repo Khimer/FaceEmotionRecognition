{
  "nbformat": 4,
  "nbformat_minor": 0,
  "metadata": {
    "colab": {
      "name": "EmotionRecognitionNetwork.ipynb",
      "provenance": [],
      "collapsed_sections": []
    },
    "kernelspec": {
      "name": "python3",
      "display_name": "Python 3"
    },
    "accelerator": "GPU"
  },
  "cells": [
    {
      "cell_type": "markdown",
      "metadata": {
        "id": "pAExNKOghg_N",
        "colab_type": "text"
      },
      "source": [
        "**Connect to Google Drive and import libraries**"
      ]
    },
    {
      "cell_type": "code",
      "metadata": {
        "id": "QSu3dDwHhT0x",
        "colab_type": "code",
        "colab": {
          "base_uri": "https://localhost:8080/",
          "height": 128
        },
        "outputId": "07dc21d6-cd3b-47d2-80ac-1b272ced1e84"
      },
      "source": [
        "from google.colab import drive\n",
        "drive.mount('/content/gdrive')\n",
        "import matplotlib.pyplot as plt\n",
        "from sklearn.metrics import classification_report, confusion_matrix\n",
        "from contextlib import redirect_stdout"
      ],
      "execution_count": 1,
      "outputs": [
        {
          "output_type": "stream",
          "text": [
            "Go to this URL in a browser: https://accounts.google.com/o/oauth2/auth?client_id=947318989803-6bn6qk8qdgf4n4g3pfee6491hc0brc4i.apps.googleusercontent.com&redirect_uri=urn%3aietf%3awg%3aoauth%3a2.0%3aoob&response_type=code&scope=email%20https%3a%2f%2fwww.googleapis.com%2fauth%2fdocs.test%20https%3a%2f%2fwww.googleapis.com%2fauth%2fdrive%20https%3a%2f%2fwww.googleapis.com%2fauth%2fdrive.photos.readonly%20https%3a%2f%2fwww.googleapis.com%2fauth%2fpeopleapi.readonly\n",
            "\n",
            "Enter your authorization code:\n",
            "··········\n",
            "Mounted at /content/gdrive\n"
          ],
          "name": "stdout"
        }
      ]
    },
    {
      "cell_type": "code",
      "metadata": {
        "id": "NPM7Pi6w3iCp",
        "colab_type": "code",
        "colab": {}
      },
      "source": [
        "from keras.preprocessing.image import ImageDataGenerator\n",
        "from keras import optimizers\n",
        "from keras.models import Sequential\n",
        "from keras.layers import Conv2D, MaxPooling2D, advanced_activations\n",
        "from keras.layers import Activation, Dropout,Flatten,Dense\n",
        "from keras.layers.normalization import BatchNormalization\n",
        "from keras.callbacks import ModelCheckpoint\n",
        "import numpy as np\n",
        "import itertools\n",
        "import keras\n"
      ],
      "execution_count": 0,
      "outputs": []
    },
    {
      "cell_type": "markdown",
      "metadata": {
        "id": "wx4l2JViho3a",
        "colab_type": "text"
      },
      "source": [
        "**Dowload data**"
      ]
    },
    {
      "cell_type": "code",
      "metadata": {
        "id": "DwUIQuBmhfrX",
        "colab_type": "code",
        "outputId": "7f3d1ba4-c3eb-41a0-99a0-1f8a673ce06f",
        "colab": {
          "base_uri": "https://localhost:8080/",
          "height": 35
        }
      },
      "source": [
        "keras.utils.data_utils._extract_archive (\n",
        "    '/content/gdrive/My Drive/Data/train.zip', path = 'train')\n",
        "keras.utils.data_utils._extract_archive (\n",
        "    '/content/gdrive/My Drive/Data/val.zip', path = 'val')\n",
        "keras.utils.data_utils._extract_archive (\n",
        "    '/content/gdrive/My Drive/Data/test.zip', path = 'test')"
      ],
      "execution_count": 3,
      "outputs": [
        {
          "output_type": "execute_result",
          "data": {
            "text/plain": [
              "True"
            ]
          },
          "metadata": {
            "tags": []
          },
          "execution_count": 3
        }
      ]
    },
    {
      "cell_type": "markdown",
      "metadata": {
        "id": "Hpryu3hJj3d5",
        "colab_type": "text"
      },
      "source": [
        "**Create Image Generator**"
      ]
    },
    {
      "cell_type": "code",
      "metadata": {
        "id": "apCimrcjhu11",
        "colab_type": "code",
        "colab": {}
      },
      "source": [
        "img_width, img_height = 48, 48\n",
        "input_share = (img_width, img_height, 1)\n",
        "epochs = 30\n",
        "batch_size = 128\n",
        "nb_train_samples = 20165\n",
        "nb_validation_samples = 3640\n",
        "nb_test_samples = 4494\n",
        "train_dir = 'train'\n",
        "val_dir = 'val'\n",
        "test_dir = 'test'"
      ],
      "execution_count": 0,
      "outputs": []
    },
    {
      "cell_type": "code",
      "metadata": {
        "id": "nkEwP-V0j2FX",
        "colab_type": "code",
        "outputId": "3b19c57b-4a39-4919-de19-0d30e6c6ee3b",
        "colab": {
          "base_uri": "https://localhost:8080/",
          "height": 90
        }
      },
      "source": [
        "datagen = ImageDataGenerator(rescale=1. / 255)\n",
        "train_generator = datagen.flow_from_directory(train_dir,\n",
        "                                              target_size=(img_width, img_height),\n",
        "                                              batch_size=batch_size, class_mode='categorical',\n",
        "                                              shuffle=1, color_mode='grayscale')\n",
        "val_generator = datagen.flow_from_directory(val_dir,\n",
        "                                            target_size=(img_width, img_height),\n",
        "                                            batch_size=batch_size, class_mode='categorical', color_mode='grayscale')\n",
        "test_generator = datagen.flow_from_directory(test_dir,\n",
        "                                             target_size=(img_width, img_height),\n",
        "                                             batch_size=batch_size, class_mode='categorical',\n",
        "                                             color_mode='grayscale')\n",
        "print(val_generator.class_indices)"
      ],
      "execution_count": 13,
      "outputs": [
        {
          "output_type": "stream",
          "text": [
            "Found 20165 images belonging to 7 classes.\n",
            "Found 3640 images belonging to 7 classes.\n",
            "Found 4494 images belonging to 7 classes.\n",
            "{'Angry': 0, 'Fear': 1, 'Happy': 2, 'Neutral': 3, 'Sadness': 4, 'Scorn': 5, 'Surprise': 6}\n"
          ],
          "name": "stdout"
        }
      ]
    },
    {
      "cell_type": "code",
      "metadata": {
        "id": "4KiFJKrmU99W",
        "colab_type": "code",
        "colab": {}
      },
      "source": [
        "y_train = train_generator[0][1].astype('uint8')\n",
        "from sklearn.utils import class_weight\n",
        "class_weights = class_weight.compute_class_weight('balanced',\n",
        "                                                 np.unique(y_train),\n",
        "                                                 y_train)"
      ],
      "execution_count": 0,
      "outputs": []
    },
    {
      "cell_type": "code",
      "metadata": {
        "id": "aJULFZklV8oM",
        "colab_type": "code",
        "colab": {
          "base_uri": "https://localhost:8080/",
          "height": 54
        },
        "outputId": "b04b3768-1176-4aff-f79c-551bed7ea880"
      },
      "source": [
        "class_weights"
      ],
      "execution_count": 12,
      "outputs": [
        {
          "output_type": "execute_result",
          "data": {
            "text/plain": [
              "array([1.14285714, 1.30612245, 0.73142857, 0.91428571, 0.73142857,\n",
              "       1.21904762, 1.40659341])"
            ]
          },
          "metadata": {
            "tags": []
          },
          "execution_count": 12
        }
      ]
    },
    {
      "cell_type": "markdown",
      "metadata": {
        "id": "Dz03qAk9mp6_",
        "colab_type": "text"
      },
      "source": [
        "**Confusion matrix function**"
      ]
    },
    {
      "cell_type": "code",
      "metadata": {
        "id": "wNBPrL9fmlY6",
        "colab_type": "code",
        "colab": {}
      },
      "source": [
        "def plot_confusion_matrix(cm, classes,\n",
        "                          normalize=False,\n",
        "                          title='Confusion matrix',\n",
        "                          cmap=plt.cm.Blues):\n",
        "    \"\"\"\n",
        "    This function prints and plots the confusion matrix.\n",
        "    Normalization can be applied by setting `normalize=True`.\n",
        "    \"\"\"\n",
        "    if normalize:\n",
        "        cm = cm.astype('float') / cm.sum(axis=1)[:, np.newaxis]\n",
        "        print(\"Normalized confusion matrix\")\n",
        "    else:\n",
        "        print('Confusion matrix, without normalization')\n",
        "\n",
        "    print(cm)\n",
        "\n",
        "    plt.imshow(cm, interpolation='nearest', cmap=cmap)\n",
        "    plt.title(title)\n",
        "    plt.colorbar()\n",
        "    tick_marks = np.arange(len(classes))\n",
        "    plt.xticks(tick_marks, classes, rotation=45)\n",
        "    plt.yticks(tick_marks, classes)\n",
        "\n",
        "    fmt = '.2f' if normalize else 'd'\n",
        "    thresh = cm.max() / 2.\n",
        "    for i, j in itertools.product(range(cm.shape[0]), range(cm.shape[1])):\n",
        "        plt.text(j, i, format(cm[i, j], fmt),\n",
        "                 horizontalalignment=\"center\",\n",
        "                 color=\"white\" if cm[i, j] > thresh else \"black\")\n",
        "\n",
        "    plt.ylabel('True label')\n",
        "    plt.xlabel('Predicted label')\n",
        "    plt.tight_layout()"
      ],
      "execution_count": 0,
      "outputs": []
    },
    {
      "cell_type": "markdown",
      "metadata": {
        "id": "eBUayL282irj",
        "colab_type": "text"
      },
      "source": [
        "**Structure Network**"
      ]
    },
    {
      "cell_type": "code",
      "metadata": {
        "id": "fsJdX-wxlD-z",
        "colab_type": "code",
        "colab": {}
      },
      "source": [
        "сheckpoint = ModelCheckpoint(\"Results/{epoch:02d}-{val_categorical_accuracy:.4f}-{val_loss:.4f}.hdf5\",\n",
        "          save_best_only=1)"
      ],
      "execution_count": 0,
      "outputs": []
    },
    {
      "cell_type": "code",
      "metadata": {
        "id": "s4LKAtd82cjz",
        "colab_type": "code",
        "outputId": "5294a6c2-5f00-4f00-8d90-c16c5406faae",
        "colab": {
          "base_uri": "https://localhost:8080/",
          "height": 1000
        }
      },
      "source": [
        "lr=0.001\n",
        "model=0\n",
        "model = Sequential()\n",
        "model.add(Conv2D(32, (3, 3), input_shape=input_share))\n",
        "model.add(BatchNormalization())\n",
        "model.add(Activation('relu'))\n",
        "model.add(Dropout(0.2))\n",
        "model.add(MaxPooling2D(pool_size=(2, 2)))\n",
        "\n",
        "model.add(Conv2D(64, (3, 3)))\n",
        "model.add(Dropout(0.2))\n",
        "model.add(BatchNormalization())\n",
        "model.add(Activation('relu'))\n",
        "model.add(MaxPooling2D(pool_size=(2, 2)))\n",
        "\n",
        "model.add(Conv2D(128, (3, 3)))\n",
        "model.add(Dropout(0.2))\n",
        "model.add(BatchNormalization())\n",
        "model.add(Activation('relu'))\n",
        "\n",
        "model.add(Flatten())\n",
        "model.add(Dense(2048))\n",
        "model.add(Dropout(0.5))\n",
        "model.add(Activation('relu'))\n",
        "model.add(Dense(7, activation='softmax'))\n",
        "\n",
        "model.compile(loss='categorical_crossentropy', optimizer=keras.optimizers.RMSprop(lr), metrics=['categorical_accuracy'])\n",
        "\n",
        "H=model.fit_generator(train_generator, steps_per_epoch=nb_train_samples // batch_size, epochs=epochs,\n",
        "                          validation_data=val_generator, class_weight=[1.12285714, 1.30612245, 0.73142857, 0.91428571, 0.73142857,\n",
        "                                                         1.21904762, 1.40659341],\n",
        "                          validation_steps=nb_validation_samples // batch_size, callbacks=[сheckpoint])\n",
        "\n",
        "scores = model.evaluate_generator(test_generator, nb_test_samples // batch_size)\n",
        "print(\"Точность на тестовых данных: %.2f%%\" % (scores[1] * 100))\n",
        "plt.style.use(\"ggplot\")\n",
        "N = epochs\n",
        "plt.plot(np.arange(0, N), H.history[\"loss\"], label=\"train_loss\")\n",
        "plt.plot(np.arange(0, N), H.history[\"val_loss\"], label=\"val_loss\")\n",
        "plt.plot(np.arange(0, N), H.history[\"categorical_accuracy\"], label=\"train_acc\")\n",
        "plt.plot(np.arange(0, N), H.history[\"val_categorical_accuracy\"], label=\"val_acc\")\n",
        "plt.title(\"Training Loss and Accuracy\")\n",
        "plt.xlabel(\"Epoch #\")\n",
        "plt.ylabel(\"Loss/Accuracy\")\n",
        "plt.legend(loc=\"upper left\")\n",
        "plt.savefig(\"Results/\"+str(round(max(H.history[\"val_categorical_accuracy\"]), 3))+'+'+str(lr)+\".png\")   \n",
        "\n",
        "with open(\"Results/\"+str(round(max(H.history[\"val_categorical_accuracy\"]), 3))+'+'+str(lr)+\".txt\", 'w') as f:\n",
        "    with redirect_stdout(f):\n",
        "        model.summary()\n",
        "plt.clf()\n",
        "Y_pred = model.predict_generator(train_generator, nb_train_samples // batch_size+1)\n",
        "y_pred = np.argmax(Y_pred, axis=1)\n",
        "ConMat=confusion_matrix(train_generator.classes, y_pred)\n",
        "plot_confusion_matrix(ConMat,train_generator.class_indices,normalize=1)\n",
        "plt.savefig(\"Results/\"+str(round(max(H.history[\"val_categorical_accuracy\"]), 3))+'matrix+'+str(lr)+\".png\")\n",
        "try:\n",
        "    model.save('/content/gdrive/My Drive/Models/model_self.h5')\n",
        "except OSError:\n",
        "    model.save('/content/drive/My Drive/Models/model_self.h5')"
      ],
      "execution_count": 26,
      "outputs": [
        {
          "output_type": "stream",
          "text": [
            "Epoch 1/30\n",
            "157/157 [==============================] - 8s 54ms/step - loss: 3.4625 - categorical_accuracy: 0.2871 - val_loss: 6.2719 - val_categorical_accuracy: 0.0405\n",
            "Epoch 2/30\n",
            "157/157 [==============================] - 8s 48ms/step - loss: 1.4340 - categorical_accuracy: 0.4420 - val_loss: 3.3057 - val_categorical_accuracy: 0.1113\n",
            "Epoch 3/30\n",
            "157/157 [==============================] - 8s 48ms/step - loss: 1.2934 - categorical_accuracy: 0.4983 - val_loss: 4.0687 - val_categorical_accuracy: 0.1019\n",
            "Epoch 4/30\n",
            "157/157 [==============================] - 8s 49ms/step - loss: 1.2058 - categorical_accuracy: 0.5344 - val_loss: 1.4648 - val_categorical_accuracy: 0.4843\n",
            "Epoch 5/30\n",
            "157/157 [==============================] - 8s 49ms/step - loss: 1.1361 - categorical_accuracy: 0.5682 - val_loss: 1.5100 - val_categorical_accuracy: 0.4240\n",
            "Epoch 6/30\n",
            "157/157 [==============================] - 8s 48ms/step - loss: 1.0792 - categorical_accuracy: 0.5891 - val_loss: 1.2206 - val_categorical_accuracy: 0.5763\n",
            "Epoch 7/30\n",
            "157/157 [==============================] - 8s 49ms/step - loss: 1.0236 - categorical_accuracy: 0.6134 - val_loss: 1.2576 - val_categorical_accuracy: 0.5191\n",
            "Epoch 8/30\n",
            "157/157 [==============================] - 8s 49ms/step - loss: 0.9676 - categorical_accuracy: 0.6297 - val_loss: 1.0651 - val_categorical_accuracy: 0.5934\n",
            "Epoch 9/30\n",
            "157/157 [==============================] - 8s 49ms/step - loss: 0.9203 - categorical_accuracy: 0.6483 - val_loss: 4.4307 - val_categorical_accuracy: 0.2588\n",
            "Epoch 10/30\n",
            "157/157 [==============================] - 8s 49ms/step - loss: 0.8713 - categorical_accuracy: 0.6688 - val_loss: 1.5457 - val_categorical_accuracy: 0.5196\n",
            "Epoch 11/30\n",
            "157/157 [==============================] - 8s 49ms/step - loss: 0.8234 - categorical_accuracy: 0.6823 - val_loss: 1.1190 - val_categorical_accuracy: 0.5942\n",
            "Epoch 12/30\n",
            "157/157 [==============================] - 8s 49ms/step - loss: 0.7848 - categorical_accuracy: 0.7031 - val_loss: 1.2828 - val_categorical_accuracy: 0.5390\n",
            "Epoch 13/30\n",
            "157/157 [==============================] - 8s 49ms/step - loss: 0.7408 - categorical_accuracy: 0.7191 - val_loss: 1.3195 - val_categorical_accuracy: 0.5236\n",
            "Epoch 14/30\n",
            "157/157 [==============================] - 8s 49ms/step - loss: 0.6914 - categorical_accuracy: 0.7384 - val_loss: 1.3778 - val_categorical_accuracy: 0.4980\n",
            "Epoch 15/30\n",
            "157/157 [==============================] - 8s 49ms/step - loss: 0.6596 - categorical_accuracy: 0.7470 - val_loss: 1.2448 - val_categorical_accuracy: 0.5823\n",
            "Epoch 16/30\n",
            "157/157 [==============================] - 8s 50ms/step - loss: 0.6065 - categorical_accuracy: 0.7725 - val_loss: 1.6269 - val_categorical_accuracy: 0.5379\n",
            "Epoch 17/30\n",
            "157/157 [==============================] - 8s 49ms/step - loss: 0.5722 - categorical_accuracy: 0.7850 - val_loss: 1.2924 - val_categorical_accuracy: 0.5672\n",
            "Epoch 18/30\n",
            "157/157 [==============================] - 8s 50ms/step - loss: 0.5401 - categorical_accuracy: 0.7968 - val_loss: 1.3497 - val_categorical_accuracy: 0.5803\n",
            "Epoch 19/30\n",
            "157/157 [==============================] - 8s 49ms/step - loss: 0.5193 - categorical_accuracy: 0.8060 - val_loss: 2.2493 - val_categorical_accuracy: 0.4775\n",
            "Epoch 20/30\n",
            "157/157 [==============================] - 8s 51ms/step - loss: 0.4908 - categorical_accuracy: 0.8164 - val_loss: 1.6744 - val_categorical_accuracy: 0.4405\n",
            "Epoch 21/30\n",
            "157/157 [==============================] - 8s 50ms/step - loss: 0.4544 - categorical_accuracy: 0.8325 - val_loss: 1.3852 - val_categorical_accuracy: 0.5806\n",
            "Epoch 22/30\n",
            "157/157 [==============================] - 8s 49ms/step - loss: 0.4354 - categorical_accuracy: 0.8374 - val_loss: 1.2582 - val_categorical_accuracy: 0.5626\n",
            "Epoch 23/30\n",
            "157/157 [==============================] - 8s 50ms/step - loss: 0.4161 - categorical_accuracy: 0.8466 - val_loss: 1.3385 - val_categorical_accuracy: 0.5646\n",
            "Epoch 24/30\n",
            "157/157 [==============================] - 8s 50ms/step - loss: 0.3953 - categorical_accuracy: 0.8561 - val_loss: 1.1931 - val_categorical_accuracy: 0.6008\n",
            "Epoch 25/30\n",
            "157/157 [==============================] - 8s 50ms/step - loss: 0.3746 - categorical_accuracy: 0.8628 - val_loss: 1.4726 - val_categorical_accuracy: 0.5962\n",
            "Epoch 26/30\n",
            "157/157 [==============================] - 8s 50ms/step - loss: 0.3638 - categorical_accuracy: 0.8666 - val_loss: 1.4079 - val_categorical_accuracy: 0.5624\n",
            "Epoch 27/30\n",
            "157/157 [==============================] - 8s 50ms/step - loss: 0.3429 - categorical_accuracy: 0.8737 - val_loss: 1.2274 - val_categorical_accuracy: 0.5911\n",
            "Epoch 28/30\n",
            "157/157 [==============================] - 8s 50ms/step - loss: 0.3260 - categorical_accuracy: 0.8829 - val_loss: 1.4010 - val_categorical_accuracy: 0.5700\n",
            "Epoch 29/30\n",
            "157/157 [==============================] - 8s 50ms/step - loss: 0.3273 - categorical_accuracy: 0.8824 - val_loss: 1.1028 - val_categorical_accuracy: 0.5945\n",
            "Epoch 30/30\n",
            "157/157 [==============================] - 8s 51ms/step - loss: 0.3091 - categorical_accuracy: 0.8890 - val_loss: 1.3392 - val_categorical_accuracy: 0.5193\n",
            "Точность на тестовых данных: 52.52%\n",
            "Normalized confusion matrix\n",
            "[[0.15969989 0.14183637 0.13504823 0.15505538 0.15434084 0.13933548\n",
            "  0.11468382]\n",
            " [0.15670605 0.14523975 0.12890896 0.16504517 0.16052814 0.12300208\n",
            "  0.12056984]\n",
            " [0.16341383 0.13728085 0.1313265  0.16076745 0.1548131  0.12371816\n",
            "  0.12868012]\n",
            " [0.15095448 0.14067548 0.12687225 0.16740088 0.16417034 0.12834068\n",
            "  0.1215859 ]\n",
            " [0.15619577 0.14821243 0.13641097 0.15931968 0.15307185 0.12669212\n",
            "  0.12009719]\n",
            " [0.15850259 0.14894464 0.12943051 0.15651135 0.15292712 0.13301474\n",
            "  0.12066906]\n",
            " [0.15029985 0.1368066  0.12743628 0.17241379 0.14355322 0.14055472\n",
            "  0.12893553]]\n"
          ],
          "name": "stdout"
        },
        {
          "output_type": "display_data",
          "data": {
            "image/png": "[encoded data removed]",
            "text/plain": [
              "<Figure size 432x288 with 2 Axes>"
            ]
          },
          "metadata": {
            "tags": []
          }
        }
      ]
    },
    {
      "cell_type": "code",
      "metadata": {
        "id": "gPYkV28wc_Sh",
        "colab_type": "code",
        "colab": {}
      },
      "source": [
        "try:\n",
        "    model.save('/content/gdrive/My Drive/Models/model_self.h5')\n",
        "except OSError:\n",
        "    model.save('/content/drive/My Drive/Models/model_self.h5')"
      ],
      "execution_count": 0,
      "outputs": []
    }
  ]
}